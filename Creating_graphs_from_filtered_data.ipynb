{
 "cells": [
  {
   "cell_type": "code",
   "execution_count": null,
   "metadata": {
    "colab": {
     "base_uri": "https://localhost:8080/"
    },
    "id": "os6fvEN-KZqr",
    "outputId": "ede98c73-1abc-4d65-895e-6621a0a432be"
   },
   "outputs": [],
   "source": []
  },
  {
   "cell_type": "code",
   "execution_count": 1,
   "metadata": {
    "id": "3Y3Bjm4-XwCr"
   },
   "outputs": [
    {
     "name": "stdout",
     "output_type": "stream",
     "text": [
      "Requirement already satisfied: uproot in /home/jonas/mambaforge/envs/dfei39/lib/python3.9/site-packages (5.0.7)\n",
      "Requirement already satisfied: packaging in /home/jonas/mambaforge/envs/dfei39/lib/python3.9/site-packages (from uproot) (23.1)\n",
      "Requirement already satisfied: awkward>=2.0.0 in /home/jonas/mambaforge/envs/dfei39/lib/python3.9/site-packages (from uproot) (2.1.4)\n",
      "Requirement already satisfied: numpy in /home/jonas/mambaforge/envs/dfei39/lib/python3.9/site-packages (from uproot) (1.24.3)\n",
      "Requirement already satisfied: awkward-cpp==15 in /home/jonas/mambaforge/envs/dfei39/lib/python3.9/site-packages (from awkward>=2.0.0->uproot) (15)\n",
      "Requirement already satisfied: typing-extensions>=4.1.0 in /home/jonas/mambaforge/envs/dfei39/lib/python3.9/site-packages (from awkward>=2.0.0->uproot) (4.6.2)\n"
     ]
    }
   ],
   "source": [
    "!pip install uproot"
   ]
  },
  {
   "cell_type": "code",
   "execution_count": 2,
   "metadata": {
    "id": "cuER5MSPX8Ci"
   },
   "outputs": [],
   "source": [
    "# !pip install -q torch-scatter\n",
    "# !pip install -q torch-sparse\n",
    "# !pip install -q torch-geometric"
   ]
  },
  {
   "cell_type": "code",
   "execution_count": 3,
   "metadata": {
    "id": "ItHjcidfmPF0"
   },
   "outputs": [],
   "source": [
    "# !pip install uproot tqdm numexpr google-colab"
   ]
  },
  {
   "cell_type": "code",
   "execution_count": 4,
   "metadata": {
    "id": "gHnIah8qX92f"
   },
   "outputs": [],
   "source": [
    "import uproot\n",
    "import numpy as np\n",
    "import pandas as pd\n",
    "import matplotlib.pyplot as plt\n",
    "from tabulate import tabulate\n",
    "import tqdm\n",
    "import tensorflow as tf\n",
    "from sklearn.preprocessing import StandardScaler\n",
    "from keras import initializers\n",
    "from keras.models import Sequential\n",
    "from keras.layers import Dense\n",
    "from tensorflow import keras\n",
    "from matplotlib import pyplot as plt\n",
    "from IPython.display import clear_output\n",
    "import numpy as np\n",
    "from sklearn.metrics import roc_curve\n",
    "from sklearn.metrics import auc\n",
    "import pickle\n",
    "import torch\n",
    "from torch_geometric.data import Data\n",
    "# import torch_geometric\n",
    "# import tqdm\n",
    "# import torch.nn as nn\n",
    "# import torch_geometric.nn as pyg_nn\n",
    "# from torch_geometric.loader import DataLoader\n",
    "# import torch.optim as optim\n",
    "# import torch.nn.functional as F"
   ]
  },
  {
   "cell_type": "code",
   "execution_count": 5,
   "metadata": {
    "id": "Cx2whPUoYBqR"
   },
   "outputs": [],
   "source": [
    "particles_file = uproot.open(\"/home/jonas/Documents/physics/lhcb/dfei/irishep/data/IRIS-HEP_DFEI/particles_data.root\")"
   ]
  },
  {
   "cell_type": "code",
   "execution_count": 6,
   "metadata": {
    "id": "-p106EeXYHR5"
   },
   "outputs": [],
   "source": [
    "particles_tree = particles_file['Particles']"
   ]
  },
  {
   "cell_type": "code",
   "execution_count": null,
   "metadata": {
    "id": "7MOtCSTUYJaA"
   },
   "outputs": [],
   "source": [
    "relevant_particles_keys = ['ExpandedEventNumber',\n",
    "                          'ExpandedParticleIndex',\n",
    "                          'ExpandedPrimaryHeavyHadronIndex',\n",
    "                          'FromPrimaryHeavyHadron',\n",
    "                          'ParticleType',\n",
    "                          'associated_ip_reco',\n",
    "                          'associated_xPV_reco',\n",
    "                          'associated_yPV_reco',\n",
    "                          'associated_zPV_reco',\n",
    "                          'charge',\n",
    "                          'inGeomAcc',\n",
    "                          'isCharged',\n",
    "                          'pt_reco',\n",
    "                          'px_reco',\n",
    "                          'py_reco',\n",
    "                          'pz_reco',\n",
    "                          'xProd_reco',\n",
    "                          'yProd_reco',\n",
    "                          'zProd_reco']"
   ]
  },
  {
   "cell_type": "code",
   "execution_count": null,
   "metadata": {
    "id": "9MCZb3tGYUoV"
   },
   "outputs": [],
   "source": [
    "df_particles = particles_tree.arrays(relevant_particles_keys, library='pd')"
   ]
  },
  {
   "cell_type": "code",
   "execution_count": null,
   "metadata": {
    "colab": {
     "base_uri": "https://localhost:8080/",
     "height": 488
    },
    "id": "-tRvLYH7iHP2",
    "outputId": "2d5f7cb3-9d58-4c83-e2da-3a4b44482564"
   },
   "outputs": [],
   "source": [
    "df_particles"
   ]
  },
  {
   "cell_type": "code",
   "execution_count": null,
   "metadata": {
    "id": "B6tclJ6hicqQ"
   },
   "outputs": [],
   "source": [
    "df_Y = df_particles.loc[:, ['ExpandedEventNumber', 'ExpandedParticleIndex', 'FromPrimaryHeavyHadron']]"
   ]
  },
  {
   "cell_type": "code",
   "execution_count": null,
   "metadata": {
    "colab": {
     "base_uri": "https://localhost:8080/",
     "height": 424
    },
    "id": "6OB0ghZ9io10",
    "outputId": "ebcba43a-bf73-4d52-aba8-11ed73da57fb"
   },
   "outputs": [],
   "source": [
    "df_Y"
   ]
  },
  {
   "cell_type": "code",
   "execution_count": null,
   "metadata": {
    "id": "uoiw5bteZYy6"
   },
   "outputs": [],
   "source": [
    "df_particles = df_particles.set_index('ExpandedParticleIndex')"
   ]
  },
  {
   "cell_type": "code",
   "execution_count": null,
   "metadata": {
    "colab": {
     "base_uri": "https://localhost:8080/",
     "height": 519
    },
    "id": "0kE6s6CliP43",
    "outputId": "0d8d4bd6-bbb6-4c10-c96d-c1faeaa4aa8a"
   },
   "outputs": [],
   "source": [
    "df_particles"
   ]
  },
  {
   "cell_type": "code",
   "execution_count": null,
   "metadata": {
    "id": "TU4V0hOlZHsR"
   },
   "outputs": [],
   "source": [
    "num_of_events = 6161"
   ]
  },
  {
   "cell_type": "code",
   "execution_count": null,
   "metadata": {
    "id": "Pe-Fv9FYi6nS"
   },
   "outputs": [],
   "source": [
    "relevant_edge_features = [\n",
    "                          'DOCA_reco',\n",
    "                          'FromSameAssociatedPV_reco',\n",
    "                          'delta_z0_reco',\n",
    "                          'p1_isCharged',\n",
    "                          'p2_isCharged',\n",
    "                          'theta_reco',\n",
    "                          'trdist_reco'\n",
    "                          ]"
   ]
  },
  {
   "cell_type": "code",
   "execution_count": null,
   "metadata": {
    "id": "6xlhSBWUxMA7"
   },
   "outputs": [],
   "source": [
    "K = 20"
   ]
  },
  {
   "cell_type": "code",
   "execution_count": null,
   "metadata": {
    "id": "jP6iZZaxxYvl"
   },
   "outputs": [],
   "source": [
    "list_of_graphs = []"
   ]
  },
  {
   "cell_type": "code",
   "execution_count": null,
   "metadata": {
    "colab": {
     "base_uri": "https://localhost:8080/"
    },
    "id": "T3C7jJHjapx-",
    "outputId": "056f52d1-b4e4-45b2-b120-6344e57404fb"
   },
   "outputs": [],
   "source": [
    "for event_number in tqdm.tqdm(range(num_of_events)):\n",
    "  \n",
    "  df_p = df_particles.loc[df_particles.ExpandedEventNumber == event_number]\n",
    "  mapping = {index: i for i, index in enumerate(df_p.index)}\n",
    "  x = df_p.loc[:, ~df_p.columns.isin(['ExpandedParticleIndex', 'ExpandedEventNumber', 'FromPrimaryHeavyHadron', 'ExpandedPrimaryHeavyHadronIndex', 'ParticleType', 'inGeomAcc'])]\n",
    "  x = torch.tensor(x.values, dtype=torch.float)\n",
    "\n",
    "  filename = f\"event_{event_number}_top_{K}_relations_filtered_by_DOCA_for_each_particle.csv\"\n",
    "  path = f'/home/jonas/Documents/physics/lhcb/dfei/irishep/data/IRIS-HEP_DFEI/filtered_relations_by_DOCA/{filename}'\n",
    "  df_r = pd.read_csv(path)\n",
    "  edges = []\n",
    "  edge_attr = []\n",
    "  for _, row in tqdm.tqdm(df_r.iterrows()):\n",
    "    sender = mapping[row['FirstParticleIndex']]\n",
    "    reciever = mapping[row['SecondParticleIndex']]\n",
    "    edge_1 = [sender, reciever]\n",
    "    edge_2 = [reciever, sender]\n",
    "    edges.append(edge_1)\n",
    "    edges.append(edge_2)\n",
    "    edge_features = list(row[relevant_edge_features].values)\n",
    "    edge_attr.append(edge_features)\n",
    "    edge_attr.append(edge_features)\n",
    "  edge_index = torch.tensor(edges, dtype=torch.long).t().contiguous()\n",
    "  edge_attr = torch.tensor(edge_attr, dtype=torch.float)\n",
    "\n",
    "\n",
    "  y = torch.tensor(df_Y.loc[df_Y.ExpandedEventNumber == event_number]['FromPrimaryHeavyHadron'].values)\n",
    "  y = y.reshape(-1, 1)\n",
    "\n",
    "  graph = Data(x=x, edge_index=edge_index, edge_attr=edge_attr, y=y)\n",
    "\n",
    "  list_of_graphs.append(graph)"
   ]
  },
  {
   "cell_type": "code",
   "execution_count": null,
   "metadata": {
    "id": "HfRNHk-cpsF9"
   },
   "outputs": [],
   "source": [
    "import pickle \n",
    "\n",
    "with open(f'/home/jonas/Documents/physics/lhcb/dfei/irishep/data/IRIS-HEP_DFEI/list_of_graphs_from_filtered_data_k{K}.pickle', 'wb') as handle:\n",
    "    pickle.dump(list_of_graphs, handle, protocol=pickle.HIGHEST_PROTOCOL)"
   ]
  },
  {
   "cell_type": "code",
   "execution_count": null,
   "metadata": {},
   "outputs": [],
   "source": []
  },
  {
   "cell_type": "code",
   "execution_count": null,
   "metadata": {},
   "outputs": [],
   "source": []
  }
 ],
 "metadata": {
  "accelerator": "GPU",
  "colab": {
   "machine_shape": "hm",
   "provenance": []
  },
  "gpuClass": "standard",
  "kernelspec": {
   "display_name": "Python 3 (ipykernel)",
   "language": "python",
   "name": "python3"
  },
  "language_info": {
   "codemirror_mode": {
    "name": "ipython",
    "version": 3
   },
   "file_extension": ".py",
   "mimetype": "text/x-python",
   "name": "python",
   "nbconvert_exporter": "python",
   "pygments_lexer": "ipython3",
   "version": "3.9.16"
  }
 },
 "nbformat": 4,
 "nbformat_minor": 1
}
