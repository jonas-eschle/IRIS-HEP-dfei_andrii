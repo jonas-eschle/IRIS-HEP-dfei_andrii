{
 "cells": [
  {
   "cell_type": "code",
   "execution_count": 1,
   "metadata": {
    "id": "wbphWZEF2bUG"
   },
   "outputs": [
    {
     "name": "stdout",
     "output_type": "stream",
     "text": [
      "\u001b[33mWARNING: Ignoring invalid distribution -andas (/home/jonas/mambaforge/envs/dfei39/lib/python3.9/site-packages)\u001b[0m\u001b[33m\n",
      "\u001b[0m\u001b[33mWARNING: Ignoring invalid distribution -andas (/home/jonas/mambaforge/envs/dfei39/lib/python3.9/site-packages)\u001b[0m\u001b[33m\n",
      "\u001b[0mRequirement already satisfied: uproot in /home/jonas/mambaforge/envs/dfei39/lib/python3.9/site-packages (4.3.7)\n",
      "Requirement already satisfied: tqdm in /home/jonas/mambaforge/envs/dfei39/lib/python3.9/site-packages (4.64.1)\n",
      "Requirement already satisfied: numexpr in /home/jonas/mambaforge/envs/dfei39/lib/python3.9/site-packages (2.8.4)\n",
      "Requirement already satisfied: setuptools in /home/jonas/mambaforge/envs/dfei39/lib/python3.9/site-packages (from uproot) (65.6.3)\n",
      "Requirement already satisfied: numpy in /home/jonas/mambaforge/envs/dfei39/lib/python3.9/site-packages (from uproot) (1.23.5)\n",
      "\u001b[33mWARNING: Ignoring invalid distribution -andas (/home/jonas/mambaforge/envs/dfei39/lib/python3.9/site-packages)\u001b[0m\u001b[33m\n",
      "\u001b[0m\u001b[33mWARNING: Ignoring invalid distribution -andas (/home/jonas/mambaforge/envs/dfei39/lib/python3.9/site-packages)\u001b[0m\u001b[33m\n",
      "\u001b[0m\u001b[33mWARNING: Ignoring invalid distribution -andas (/home/jonas/mambaforge/envs/dfei39/lib/python3.9/site-packages)\u001b[0m\u001b[33m\n",
      "\u001b[0m\u001b[33mWARNING: Ignoring invalid distribution -andas (/home/jonas/mambaforge/envs/dfei39/lib/python3.9/site-packages)\u001b[0m\u001b[33m\n",
      "\u001b[0m"
     ]
    }
   ],
   "source": [
    "!pip install uproot tqdm numexpr"
   ]
  },
  {
   "cell_type": "code",
   "execution_count": 2,
   "metadata": {
    "id": "xdQee79P2tX3"
   },
   "outputs": [],
   "source": [
    "import uproot\n",
    "import pandas as pd\n",
    "import tqdm\n",
    "from pathlib import Path\n",
    "import numpy as np\n",
    "import numexpr"
   ]
  },
  {
   "cell_type": "code",
   "execution_count": null,
   "metadata": {
    "colab": {
     "base_uri": "https://localhost:8080/"
    },
    "id": "wyj9xEkJ2uwF",
    "outputId": "ffe5fcc0-345b-4ca4-e777-d996fc6d561b"
   },
   "outputs": [],
   "source": []
  },
  {
   "cell_type": "code",
   "execution_count": 3,
   "metadata": {
    "id": "DJYyoNMy21_2"
   },
   "outputs": [],
   "source": [
    "relations_file = uproot.open(\"/home/jonas/Documents/physics/lhcb/dfei/irishep/data/IRIS-HEP_DFEI/relations_data.root\")"
   ]
  },
  {
   "cell_type": "code",
   "execution_count": 4,
   "metadata": {
    "id": "hhKzTe3v24p_"
   },
   "outputs": [],
   "source": [
    "relations_tree = relations_file['ParticleRelations']"
   ]
  },
  {
   "cell_type": "code",
   "execution_count": 5,
   "metadata": {
    "id": "n-0sA39v29_J"
   },
   "outputs": [],
   "source": [
    "relevant_relations_keys = [\n",
    "                          'DOCA_reco',\n",
    "                          'ExpandedEventNumber',\n",
    "                          'FirstParticleIndex',\n",
    "                          'FromSameAssociatedPV_reco',\n",
    "                          'SecondParticleIndex',\n",
    "                          'delta_z0_reco',\n",
    "                          'p1_isCharged',\n",
    "                          'p2_isCharged',\n",
    "                          'theta_reco',\n",
    "                          'trdist_reco'\n",
    "                          ]"
   ]
  },
  {
   "cell_type": "code",
   "execution_count": 6,
   "metadata": {
    "id": "CsnhjRFCWRrd"
   },
   "outputs": [],
   "source": [
    "df_relations = relations_tree.arrays(relevant_relations_keys, library='pd')"
   ]
  },
  {
   "cell_type": "code",
   "execution_count": 7,
   "metadata": {
    "id": "59XfZf5M3jbH"
   },
   "outputs": [],
   "source": [
    "num_of_events = df_relations['ExpandedEventNumber'].max()"
   ]
  },
  {
   "cell_type": "code",
   "execution_count": 8,
   "metadata": {
    "id": "Z-JPKoNxEErZ"
   },
   "outputs": [],
   "source": [
    "num_of_events = int(num_of_events)"
   ]
  },
  {
   "cell_type": "code",
   "execution_count": 12,
   "metadata": {
    "id": "c-rvNvDrG0Vr"
   },
   "outputs": [],
   "source": [
    "K = 20"
   ]
  },
  {
   "cell_type": "code",
   "execution_count": 13,
   "metadata": {
    "id": "tYBC2xsOrSJ7"
   },
   "outputs": [],
   "source": [
    "df_relations.sort_values(by=[\"ExpandedEventNumber\"], inplace=True, ascending=True)"
   ]
  },
  {
   "cell_type": "code",
   "execution_count": 14,
   "metadata": {
    "colab": {
     "base_uri": "https://localhost:8080/"
    },
    "id": "AwTdNU00q_4a",
    "outputId": "43f3b533-7a87-4da4-f893-c3fc6cf77e2e"
   },
   "outputs": [
    {
     "name": "stderr",
     "output_type": "stream",
     "text": [
      " 20%|███████████████▊                                                               | 1232/6161 [06:57<27:50,  2.95it/s]\n"
     ]
    },
    {
     "ename": "KeyError",
     "evalue": "'[0, 9, 10, 3089, 97968352, 139854189011664, 281479271743489, 281479288455424, 282574505115904, 282578800083200, 282578800148481, 282578800148736, 72058693566333184, 72058693566333185, 72058693566398465, 72058693566398721, 72058697844588545, 72058697844588800, 72058697844588801, 72058697861300480, 72058697861366016, 72058697861366017, 72339073309671425, 72339073309671680, 72339073309671681, 72340168543043840, 72340168543109121, 72340172821299456, 72340172838011136, 72340172838011137, 72340172838076417, 72340172838076673, 4759178906240614401] not in index'",
     "output_type": "error",
     "traceback": [
      "\u001b[0;31m---------------------------------------------------------------------------\u001b[0m",
      "\u001b[0;31mKeyError\u001b[0m                                  Traceback (most recent call last)",
      "Cell \u001b[0;32mIn[14], line 29\u001b[0m\n\u001b[1;32m     27\u001b[0m   lower_idx \u001b[38;5;241m=\u001b[39m upper_idx\n\u001b[1;32m     28\u001b[0m indices \u001b[38;5;241m=\u001b[39m np\u001b[38;5;241m.\u001b[39munique(indices)\n\u001b[0;32m---> 29\u001b[0m filtered_event_relations_df \u001b[38;5;241m=\u001b[39m \u001b[43mdf_r\u001b[49m\u001b[38;5;241;43m.\u001b[39;49m\u001b[43mloc\u001b[49m\u001b[43m[\u001b[49m\u001b[43mindices\u001b[49m\u001b[43m]\u001b[49m\n\u001b[1;32m     30\u001b[0m filename \u001b[38;5;241m=\u001b[39m \u001b[38;5;124mf\u001b[39m\u001b[38;5;124m'\u001b[39m\u001b[38;5;124mevent_\u001b[39m\u001b[38;5;132;01m{\u001b[39;00mevent_number\u001b[38;5;132;01m}\u001b[39;00m\u001b[38;5;124m_top_\u001b[39m\u001b[38;5;132;01m{\u001b[39;00mK\u001b[38;5;132;01m}\u001b[39;00m\u001b[38;5;124m_relations_filtered_by_DOCA_for_each_particle.csv\u001b[39m\u001b[38;5;124m'\u001b[39m\n\u001b[1;32m     31\u001b[0m path \u001b[38;5;241m=\u001b[39m \u001b[38;5;124mf\u001b[39m\u001b[38;5;124m'\u001b[39m\u001b[38;5;124m/home/jonas/Documents/physics/lhcb/dfei/irishep/data/IRIS-HEP_DFEI/filtered_relations_by_DOCA/\u001b[39m\u001b[38;5;132;01m{\u001b[39;00mfilename\u001b[38;5;132;01m}\u001b[39;00m\u001b[38;5;124m'\u001b[39m\n",
      "File \u001b[0;32m~/mambaforge/envs/dfei39/lib/python3.9/site-packages/pandas/core/indexing.py:1103\u001b[0m, in \u001b[0;36m_LocationIndexer.__getitem__\u001b[0;34m(self, key)\u001b[0m\n\u001b[1;32m   1100\u001b[0m axis \u001b[38;5;241m=\u001b[39m \u001b[38;5;28mself\u001b[39m\u001b[38;5;241m.\u001b[39maxis \u001b[38;5;129;01mor\u001b[39;00m \u001b[38;5;241m0\u001b[39m\n\u001b[1;32m   1102\u001b[0m maybe_callable \u001b[38;5;241m=\u001b[39m com\u001b[38;5;241m.\u001b[39mapply_if_callable(key, \u001b[38;5;28mself\u001b[39m\u001b[38;5;241m.\u001b[39mobj)\n\u001b[0;32m-> 1103\u001b[0m \u001b[38;5;28;01mreturn\u001b[39;00m \u001b[38;5;28;43mself\u001b[39;49m\u001b[38;5;241;43m.\u001b[39;49m\u001b[43m_getitem_axis\u001b[49m\u001b[43m(\u001b[49m\u001b[43mmaybe_callable\u001b[49m\u001b[43m,\u001b[49m\u001b[43m \u001b[49m\u001b[43maxis\u001b[49m\u001b[38;5;241;43m=\u001b[39;49m\u001b[43maxis\u001b[49m\u001b[43m)\u001b[49m\n",
      "File \u001b[0;32m~/mambaforge/envs/dfei39/lib/python3.9/site-packages/pandas/core/indexing.py:1332\u001b[0m, in \u001b[0;36m_LocIndexer._getitem_axis\u001b[0;34m(self, key, axis)\u001b[0m\n\u001b[1;32m   1329\u001b[0m     \u001b[38;5;28;01mif\u001b[39;00m \u001b[38;5;28mhasattr\u001b[39m(key, \u001b[38;5;124m\"\u001b[39m\u001b[38;5;124mndim\u001b[39m\u001b[38;5;124m\"\u001b[39m) \u001b[38;5;129;01mand\u001b[39;00m key\u001b[38;5;241m.\u001b[39mndim \u001b[38;5;241m>\u001b[39m \u001b[38;5;241m1\u001b[39m:\n\u001b[1;32m   1330\u001b[0m         \u001b[38;5;28;01mraise\u001b[39;00m \u001b[38;5;167;01mValueError\u001b[39;00m(\u001b[38;5;124m\"\u001b[39m\u001b[38;5;124mCannot index with multidimensional key\u001b[39m\u001b[38;5;124m\"\u001b[39m)\n\u001b[0;32m-> 1332\u001b[0m     \u001b[38;5;28;01mreturn\u001b[39;00m \u001b[38;5;28;43mself\u001b[39;49m\u001b[38;5;241;43m.\u001b[39;49m\u001b[43m_getitem_iterable\u001b[49m\u001b[43m(\u001b[49m\u001b[43mkey\u001b[49m\u001b[43m,\u001b[49m\u001b[43m \u001b[49m\u001b[43maxis\u001b[49m\u001b[38;5;241;43m=\u001b[39;49m\u001b[43maxis\u001b[49m\u001b[43m)\u001b[49m\n\u001b[1;32m   1334\u001b[0m \u001b[38;5;66;03m# nested tuple slicing\u001b[39;00m\n\u001b[1;32m   1335\u001b[0m \u001b[38;5;28;01mif\u001b[39;00m is_nested_tuple(key, labels):\n",
      "File \u001b[0;32m~/mambaforge/envs/dfei39/lib/python3.9/site-packages/pandas/core/indexing.py:1272\u001b[0m, in \u001b[0;36m_LocIndexer._getitem_iterable\u001b[0;34m(self, key, axis)\u001b[0m\n\u001b[1;32m   1269\u001b[0m \u001b[38;5;28mself\u001b[39m\u001b[38;5;241m.\u001b[39m_validate_key(key, axis)\n\u001b[1;32m   1271\u001b[0m \u001b[38;5;66;03m# A collection of keys\u001b[39;00m\n\u001b[0;32m-> 1272\u001b[0m keyarr, indexer \u001b[38;5;241m=\u001b[39m \u001b[38;5;28;43mself\u001b[39;49m\u001b[38;5;241;43m.\u001b[39;49m\u001b[43m_get_listlike_indexer\u001b[49m\u001b[43m(\u001b[49m\u001b[43mkey\u001b[49m\u001b[43m,\u001b[49m\u001b[43m \u001b[49m\u001b[43maxis\u001b[49m\u001b[43m)\u001b[49m\n\u001b[1;32m   1273\u001b[0m \u001b[38;5;28;01mreturn\u001b[39;00m \u001b[38;5;28mself\u001b[39m\u001b[38;5;241m.\u001b[39mobj\u001b[38;5;241m.\u001b[39m_reindex_with_indexers(\n\u001b[1;32m   1274\u001b[0m     {axis: [keyarr, indexer]}, copy\u001b[38;5;241m=\u001b[39m\u001b[38;5;28;01mTrue\u001b[39;00m, allow_dups\u001b[38;5;241m=\u001b[39m\u001b[38;5;28;01mTrue\u001b[39;00m\n\u001b[1;32m   1275\u001b[0m )\n",
      "File \u001b[0;32m~/mambaforge/envs/dfei39/lib/python3.9/site-packages/pandas/core/indexing.py:1462\u001b[0m, in \u001b[0;36m_LocIndexer._get_listlike_indexer\u001b[0;34m(self, key, axis)\u001b[0m\n\u001b[1;32m   1459\u001b[0m ax \u001b[38;5;241m=\u001b[39m \u001b[38;5;28mself\u001b[39m\u001b[38;5;241m.\u001b[39mobj\u001b[38;5;241m.\u001b[39m_get_axis(axis)\n\u001b[1;32m   1460\u001b[0m axis_name \u001b[38;5;241m=\u001b[39m \u001b[38;5;28mself\u001b[39m\u001b[38;5;241m.\u001b[39mobj\u001b[38;5;241m.\u001b[39m_get_axis_name(axis)\n\u001b[0;32m-> 1462\u001b[0m keyarr, indexer \u001b[38;5;241m=\u001b[39m \u001b[43max\u001b[49m\u001b[38;5;241;43m.\u001b[39;49m\u001b[43m_get_indexer_strict\u001b[49m\u001b[43m(\u001b[49m\u001b[43mkey\u001b[49m\u001b[43m,\u001b[49m\u001b[43m \u001b[49m\u001b[43maxis_name\u001b[49m\u001b[43m)\u001b[49m\n\u001b[1;32m   1464\u001b[0m \u001b[38;5;28;01mreturn\u001b[39;00m keyarr, indexer\n",
      "File \u001b[0;32m~/mambaforge/envs/dfei39/lib/python3.9/site-packages/pandas/core/indexes/base.py:5876\u001b[0m, in \u001b[0;36mIndex._get_indexer_strict\u001b[0;34m(self, key, axis_name)\u001b[0m\n\u001b[1;32m   5873\u001b[0m \u001b[38;5;28;01melse\u001b[39;00m:\n\u001b[1;32m   5874\u001b[0m     keyarr, indexer, new_indexer \u001b[38;5;241m=\u001b[39m \u001b[38;5;28mself\u001b[39m\u001b[38;5;241m.\u001b[39m_reindex_non_unique(keyarr)\n\u001b[0;32m-> 5876\u001b[0m \u001b[38;5;28;43mself\u001b[39;49m\u001b[38;5;241;43m.\u001b[39;49m\u001b[43m_raise_if_missing\u001b[49m\u001b[43m(\u001b[49m\u001b[43mkeyarr\u001b[49m\u001b[43m,\u001b[49m\u001b[43m \u001b[49m\u001b[43mindexer\u001b[49m\u001b[43m,\u001b[49m\u001b[43m \u001b[49m\u001b[43maxis_name\u001b[49m\u001b[43m)\u001b[49m\n\u001b[1;32m   5878\u001b[0m keyarr \u001b[38;5;241m=\u001b[39m \u001b[38;5;28mself\u001b[39m\u001b[38;5;241m.\u001b[39mtake(indexer)\n\u001b[1;32m   5879\u001b[0m \u001b[38;5;28;01mif\u001b[39;00m \u001b[38;5;28misinstance\u001b[39m(key, Index):\n\u001b[1;32m   5880\u001b[0m     \u001b[38;5;66;03m# GH 42790 - Preserve name from an Index\u001b[39;00m\n",
      "File \u001b[0;32m~/mambaforge/envs/dfei39/lib/python3.9/site-packages/pandas/core/indexes/base.py:5938\u001b[0m, in \u001b[0;36mIndex._raise_if_missing\u001b[0;34m(self, key, indexer, axis_name)\u001b[0m\n\u001b[1;32m   5935\u001b[0m     \u001b[38;5;28;01mraise\u001b[39;00m \u001b[38;5;167;01mKeyError\u001b[39;00m(\u001b[38;5;124mf\u001b[39m\u001b[38;5;124m\"\u001b[39m\u001b[38;5;124mNone of [\u001b[39m\u001b[38;5;132;01m{\u001b[39;00mkey\u001b[38;5;132;01m}\u001b[39;00m\u001b[38;5;124m] are in the [\u001b[39m\u001b[38;5;132;01m{\u001b[39;00maxis_name\u001b[38;5;132;01m}\u001b[39;00m\u001b[38;5;124m]\u001b[39m\u001b[38;5;124m\"\u001b[39m)\n\u001b[1;32m   5937\u001b[0m not_found \u001b[38;5;241m=\u001b[39m \u001b[38;5;28mlist\u001b[39m(ensure_index(key)[missing_mask\u001b[38;5;241m.\u001b[39mnonzero()[\u001b[38;5;241m0\u001b[39m]]\u001b[38;5;241m.\u001b[39munique())\n\u001b[0;32m-> 5938\u001b[0m \u001b[38;5;28;01mraise\u001b[39;00m \u001b[38;5;167;01mKeyError\u001b[39;00m(\u001b[38;5;124mf\u001b[39m\u001b[38;5;124m\"\u001b[39m\u001b[38;5;132;01m{\u001b[39;00mnot_found\u001b[38;5;132;01m}\u001b[39;00m\u001b[38;5;124m not in index\u001b[39m\u001b[38;5;124m\"\u001b[39m)\n",
      "\u001b[0;31mKeyError\u001b[0m: '[0, 9, 10, 3089, 97968352, 139854189011664, 281479271743489, 281479288455424, 282574505115904, 282578800083200, 282578800148481, 282578800148736, 72058693566333184, 72058693566333185, 72058693566398465, 72058693566398721, 72058697844588545, 72058697844588800, 72058697844588801, 72058697861300480, 72058697861366016, 72058697861366017, 72339073309671425, 72339073309671680, 72339073309671681, 72340168543043840, 72340168543109121, 72340172821299456, 72340172838011136, 72340172838011137, 72340172838076417, 72340172838076673, 4759178906240614401] not in index'"
     ]
    }
   ],
   "source": [
    "import time\n",
    "lower_index = 0\n",
    "old_event_number = df_relations.ExpandedEventNumber.iloc[0]\n",
    "sorter = np.arange(0, df_relations.shape[0], step=1)\n",
    "event_nrs = df_relations.ExpandedEventNumber\n",
    "sorted_indices = np.searchsorted(event_nrs, sorter, side=\"right\", sorter=sorter)\n",
    "for event_number in tqdm.tqdm(range(num_of_events)):\n",
    "  start = time.time()\n",
    "  \n",
    "  upper_index = sorted_indices[event_number]\n",
    "  df_r = df_relations.iloc[lower_index:upper_index]\n",
    "  lower_index = upper_index\n",
    "  old_event_number = df_relations.iloc[upper_index]\n",
    "  unique_particle_indexes = pd.concat([df_r['FirstParticleIndex'], df_r['SecondParticleIndex']]).unique()\n",
    "\n",
    "  indices = np.empty(shape=(K * unique_particle_indexes.shape[0],), dtype=np.int64)\n",
    "  first_p_index = df_r.FirstParticleIndex\n",
    "  second_p_index = df_r.SecondParticleIndex\n",
    "\n",
    "  lower_idx = 0  \n",
    "  for i, p_idx in enumerate(unique_particle_indexes):\n",
    "\n",
    "    criterion = numexpr.evaluate(\"(first_p_index == p_idx) | (second_p_index == p_idx)\")\n",
    "    k = K if K < np.count_nonzero(criterion) else np.count_nonzero(criterion)\n",
    "    upper_idx = lower_idx + k\n",
    "    indices[lower_idx: upper_idx] = df_r.loc[criterion].nsmallest(k, \"DOCA_reco\").index\n",
    "    lower_idx = upper_idx\n",
    "  indices = np.unique(indices)\n",
    "  filtered_event_relations_df = df_r.loc[indices]\n",
    "  filename = f'event_{event_number}_top_{K}_relations_filtered_by_DOCA_for_each_particle.csv'\n",
    "  path = f'/home/jonas/Documents/physics/lhcb/dfei/irishep/data/IRIS-HEP_DFEI/filtered_relations_by_DOCA/{filename}'\n",
    "  filtered_event_relations_df.to_csv(path)"
   ]
  },
  {
   "cell_type": "code",
   "execution_count": null,
   "metadata": {},
   "outputs": [],
   "source": []
  },
  {
   "cell_type": "code",
   "execution_count": null,
   "metadata": {},
   "outputs": [],
   "source": []
  },
  {
   "cell_type": "code",
   "execution_count": null,
   "metadata": {},
   "outputs": [],
   "source": []
  },
  {
   "cell_type": "code",
   "execution_count": null,
   "metadata": {},
   "outputs": [],
   "source": []
  }
 ],
 "metadata": {
  "accelerator": "GPU",
  "colab": {
   "collapsed_sections": [],
   "machine_shape": "hm",
   "provenance": []
  },
  "gpuClass": "standard",
  "kernelspec": {
   "display_name": "Python 3 (ipykernel)",
   "language": "python",
   "name": "python3"
  },
  "language_info": {
   "codemirror_mode": {
    "name": "ipython",
    "version": 3
   },
   "file_extension": ".py",
   "mimetype": "text/x-python",
   "name": "python",
   "nbconvert_exporter": "python",
   "pygments_lexer": "ipython3",
   "version": "3.9.16"
  }
 },
 "nbformat": 4,
 "nbformat_minor": 1
}
