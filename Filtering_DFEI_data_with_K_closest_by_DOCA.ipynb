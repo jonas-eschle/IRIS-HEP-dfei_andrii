{
 "cells": [
  {
   "cell_type": "code",
   "execution_count": 1,
   "metadata": {
    "id": "wbphWZEF2bUG"
   },
   "outputs": [
    {
     "name": "stdout",
     "output_type": "stream",
     "text": [
      "Requirement already satisfied: uproot in /home/jonas/mambaforge/envs/dfei39/lib/python3.9/site-packages (4.3.7)\r\n",
      "Requirement already satisfied: tqdm in /home/jonas/mambaforge/envs/dfei39/lib/python3.9/site-packages (4.64.1)\r\n",
      "Requirement already satisfied: numexpr in /home/jonas/mambaforge/envs/dfei39/lib/python3.9/site-packages (2.8.4)\r\n",
      "Requirement already satisfied: setuptools in /home/jonas/mambaforge/envs/dfei39/lib/python3.9/site-packages (from uproot) (65.6.3)\r\n",
      "Requirement already satisfied: numpy in /home/jonas/mambaforge/envs/dfei39/lib/python3.9/site-packages (from uproot) (1.23.5)\r\n"
     ]
    }
   ],
   "source": [
    "!pip install uproot tqdm numexpr"
   ]
  },
  {
   "cell_type": "code",
   "execution_count": 2,
   "metadata": {
    "id": "xdQee79P2tX3"
   },
   "outputs": [],
   "source": [
    "import uproot\n",
    "import pandas as pd\n",
    "import tqdm\n",
    "from pathlib import Path\n",
    "import numpy as np\n",
    "import numexpr"
   ]
  },
  {
   "cell_type": "code",
   "execution_count": null,
   "metadata": {
    "colab": {
     "base_uri": "https://localhost:8080/"
    },
    "id": "wyj9xEkJ2uwF",
    "outputId": "ffe5fcc0-345b-4ca4-e777-d996fc6d561b"
   },
   "outputs": [],
   "source": []
  },
  {
   "cell_type": "code",
   "execution_count": 3,
   "metadata": {
    "id": "DJYyoNMy21_2"
   },
   "outputs": [],
   "source": [
    "relations_file = uproot.open(\"/home/jonas/Documents/physics/lhcb/dfei/irishep/data/IRIS-HEP_DFEI/relations_data.root\")"
   ]
  },
  {
   "cell_type": "code",
   "execution_count": 4,
   "metadata": {
    "id": "hhKzTe3v24p_"
   },
   "outputs": [],
   "source": [
    "relations_tree = relations_file['ParticleRelations']"
   ]
  },
  {
   "cell_type": "code",
   "execution_count": 5,
   "metadata": {
    "id": "n-0sA39v29_J"
   },
   "outputs": [],
   "source": [
    "relevant_relations_keys = [\n",
    "                          'DOCA_reco',\n",
    "                          'ExpandedEventNumber',\n",
    "                          'FirstParticleIndex',\n",
    "                          'FromSameAssociatedPV_reco',\n",
    "                          'SecondParticleIndex',\n",
    "                          'delta_z0_reco',\n",
    "                          'p1_isCharged',\n",
    "                          'p2_isCharged',\n",
    "                          'theta_reco',\n",
    "                          'trdist_reco'\n",
    "                          ]"
   ]
  },
  {
   "cell_type": "code",
   "execution_count": 6,
   "metadata": {
    "id": "CsnhjRFCWRrd"
   },
   "outputs": [],
   "source": [
    "df_relations = relations_tree.arrays(relevant_relations_keys, library='pd')"
   ]
  },
  {
   "cell_type": "code",
   "execution_count": 7,
   "metadata": {
    "id": "59XfZf5M3jbH"
   },
   "outputs": [],
   "source": [
    "num_of_events = df_relations['ExpandedEventNumber'].max()"
   ]
  },
  {
   "cell_type": "code",
   "execution_count": 8,
   "metadata": {
    "id": "Z-JPKoNxEErZ"
   },
   "outputs": [],
   "source": [
    "num_of_events = int(num_of_events)"
   ]
  },
  {
   "cell_type": "code",
   "execution_count": 9,
   "metadata": {
    "id": "c-rvNvDrG0Vr"
   },
   "outputs": [],
   "source": [
    "K = 10"
   ]
  },
  {
   "cell_type": "code",
   "execution_count": 10,
   "metadata": {
    "id": "tYBC2xsOrSJ7"
   },
   "outputs": [],
   "source": [
    "df_relations.sort_values(by=[\"ExpandedEventNumber\"], inplace=True, ascending=True)"
   ]
  },
  {
   "cell_type": "code",
   "execution_count": 11,
   "metadata": {
    "colab": {
     "base_uri": "https://localhost:8080/"
    },
    "id": "AwTdNU00q_4a",
    "outputId": "43f3b533-7a87-4da4-f893-c3fc6cf77e2e"
   },
   "outputs": [
    {
     "name": "stderr",
     "output_type": "stream",
     "text": [
      "100%|███████████████████████████████████████████████████████████████████████████████| 6161/6161 [40:26<00:00,  2.54it/s]\n"
     ]
    }
   ],
   "source": [
    "import time\n",
    "lower_index = 0\n",
    "old_event_number = df_relations.ExpandedEventNumber.iloc[0]\n",
    "sorter = np.arange(0, df_relations.shape[0], step=1)\n",
    "event_nrs = df_relations.ExpandedEventNumber\n",
    "sorted_indices = np.searchsorted(event_nrs, sorter, side=\"right\", sorter=sorter)\n",
    "for event_number in tqdm.tqdm(range(num_of_events)):\n",
    "  start = time.time()\n",
    "  \n",
    "  upper_index = sorted_indices[event_number]\n",
    "  df_r = df_relations.iloc[lower_index:upper_index]\n",
    "  lower_index = upper_index\n",
    "  old_event_number = df_relations.iloc[upper_index]\n",
    "  unique_particle_indexes = pd.concat([df_r['FirstParticleIndex'], df_r['SecondParticleIndex']]).unique()\n",
    "\n",
    "  indices = np.empty(shape=(K * unique_particle_indexes.shape[0],), dtype=np.int64)\n",
    "  first_p_index = df_r.FirstParticleIndex\n",
    "  second_p_index = df_r.SecondParticleIndex\n",
    "\n",
    "  lower_idx = 0  \n",
    "  for i, p_idx in enumerate(unique_particle_indexes):\n",
    "\n",
    "    criterion = numexpr.evaluate(\"(first_p_index == p_idx) | (second_p_index == p_idx)\")\n",
    "    k = K if K < np.count_nonzero(criterion) else np.count_nonzero(criterion)\n",
    "    upper_idx = lower_idx + k\n",
    "    indices[lower_idx: upper_idx] = df_r.loc[criterion].nsmallest(k, \"DOCA_reco\").index\n",
    "    lower_idx = upper_idx\n",
    "  indices = np.unique(indices)\n",
    "  filtered_event_relations_df = df_r.loc[indices]\n",
    "  filename = f'event_{event_number}_top_{K}_relations_filtered_by_DOCA_for_each_particle.csv'\n",
    "  path = f'/home/jonas/Documents/physics/lhcb/dfei/irishep/data/IRIS-HEP_DFEI/filtered_relations_by_DOCA/{filename}'\n",
    "  filtered_event_relations_df.to_csv(path)"
   ]
  },
  {
   "cell_type": "code",
   "execution_count": null,
   "metadata": {},
   "outputs": [],
   "source": []
  },
  {
   "cell_type": "code",
   "execution_count": null,
   "metadata": {},
   "outputs": [],
   "source": []
  },
  {
   "cell_type": "code",
   "execution_count": null,
   "metadata": {},
   "outputs": [],
   "source": []
  },
  {
   "cell_type": "code",
   "execution_count": null,
   "metadata": {},
   "outputs": [],
   "source": []
  }
 ],
 "metadata": {
  "accelerator": "GPU",
  "colab": {
   "collapsed_sections": [],
   "machine_shape": "hm",
   "provenance": []
  },
  "gpuClass": "standard",
  "kernelspec": {
   "display_name": "Python 3 (ipykernel)",
   "language": "python",
   "name": "python3"
  },
  "language_info": {
   "codemirror_mode": {
    "name": "ipython",
    "version": 3
   },
   "file_extension": ".py",
   "mimetype": "text/x-python",
   "name": "python",
   "nbconvert_exporter": "python",
   "pygments_lexer": "ipython3",
   "version": "3.9.16"
  }
 },
 "nbformat": 4,
 "nbformat_minor": 1
}
