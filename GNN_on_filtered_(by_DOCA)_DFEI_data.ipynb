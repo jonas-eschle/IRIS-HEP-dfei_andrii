{
 "cells": [
  {
   "cell_type": "code",
   "execution_count": null,
   "metadata": {
    "id": "sUx1lDD27-Y6"
   },
   "outputs": [],
   "source": []
  },
  {
   "cell_type": "code",
   "execution_count": 1,
   "metadata": {
    "id": "nuGMiWS-xmxg"
   },
   "outputs": [
    {
     "name": "stdout",
     "output_type": "stream",
     "text": [
      "Requirement already satisfied: uproot in /home/jonas/mambaforge/envs/dfei39/lib/python3.9/site-packages (4.3.7)\r\n",
      "Requirement already satisfied: numpy in /home/jonas/mambaforge/envs/dfei39/lib/python3.9/site-packages (from uproot) (1.23.5)\r\n",
      "Requirement already satisfied: setuptools in /home/jonas/mambaforge/envs/dfei39/lib/python3.9/site-packages (from uproot) (65.6.3)\r\n"
     ]
    }
   ],
   "source": [
    "!pip install uproot"
   ]
  },
  {
   "cell_type": "code",
   "execution_count": 2,
   "metadata": {
    "id": "DYHOzRzey66v"
   },
   "outputs": [],
   "source": [
    "# !pip install --target=$nb_path -q torch-scatter -f https://pytorch-geometric.com/whl/torch-1.7.0+cu101.html\n",
    "# !pip install --target=$nb_path -q torch-sparse -f https://pytorch-geometric.com/whl/torch-1.7.0+cu101.html\n",
    "# !pip install --target=$nb_path -q torch-geometric"
   ]
  },
  {
   "cell_type": "code",
   "execution_count": 3,
   "metadata": {
    "id": "6kATtPp5qjQC"
   },
   "outputs": [],
   "source": [
    "# !pip install --target=$nb_path -q torch-cluster -f https://pytorch-geometric.com/whl/torch-1.7.0+cu101.html"
   ]
  },
  {
   "cell_type": "code",
   "execution_count": 4,
   "metadata": {},
   "outputs": [
    {
     "name": "stdout",
     "output_type": "stream",
     "text": [
      "Requirement already satisfied: torch-cluster in /home/jonas/mambaforge/envs/dfei39/lib/python3.9/site-packages (1.6.1)\r\n",
      "Requirement already satisfied: scipy in /home/jonas/mambaforge/envs/dfei39/lib/python3.9/site-packages (from torch-cluster) (1.10.0)\r\n",
      "Requirement already satisfied: numpy<1.27.0,>=1.19.5 in /home/jonas/mambaforge/envs/dfei39/lib/python3.9/site-packages (from scipy->torch-cluster) (1.23.5)\r\n"
     ]
    }
   ],
   "source": [
    "!pip install torch-cluster"
   ]
  },
  {
   "cell_type": "code",
   "execution_count": 5,
   "metadata": {
    "id": "bnbpkwjty9A9"
   },
   "outputs": [
    {
     "name": "stderr",
     "output_type": "stream",
     "text": [
      "/home/jonas/mambaforge/envs/dfei39/lib/python3.9/site-packages/torch/cuda/__init__.py:107: UserWarning: CUDA initialization: CUDA unknown error - this may be due to an incorrectly set up environment, e.g. changing env variable CUDA_VISIBLE_DEVICES after program start. Setting the available devices to be zero. (Triggered internally at ../c10/cuda/CUDAFunctions.cpp:109.)\n",
      "  return torch._C._cuda_getDeviceCount() > 0\n"
     ]
    }
   ],
   "source": [
    "import torch\n",
    "import torch.nn as nn\n",
    "import torch.nn.functional as F\n",
    "\n",
    "import torch_geometric.nn as pyg_nn\n",
    "import torch_geometric.utils as pyg_utils\n",
    "\n",
    "import time\n",
    "from datetime import datetime\n",
    "import tqdm\n",
    "\n",
    "import networkx as nx\n",
    "import numpy as np\n",
    "import torch\n",
    "import torch.optim as optim\n",
    "\n",
    "from torch_geometric.datasets import TUDataset\n",
    "from torch_geometric.datasets import Planetoid\n",
    "from torch_geometric.data import DataLoader\n",
    "\n",
    "import torch_geometric.transforms as T\n",
    "\n",
    "from sklearn.manifold import TSNE\n",
    "import matplotlib.pyplot as plt\n",
    "import pickle\n",
    "import torch_cluster\n",
    "from torch_geometric.nn import GravNetConv"
   ]
  },
  {
   "cell_type": "code",
   "execution_count": 6,
   "metadata": {
    "id": "9oI1EhGAhYXJ"
   },
   "outputs": [],
   "source": [
    "# getting the data\n",
    "\n",
    "with open('/home/jonas/Documents/physics/lhcb/dfei/irishep/data/IRIS-HEP_DFEI/list_of_graphs_from_filtered_data_k5.pickle', 'rb') as f:\n",
    "    list_of_graphs = pickle.load(f)"
   ]
  },
  {
   "cell_type": "code",
   "execution_count": 7,
   "metadata": {},
   "outputs": [],
   "source": [
    "frac_test = 0.3\n",
    "index_test_start = int(len(list_of_graphs) * (1 - frac_test))\n",
    "list_of_graphs_training = list_of_graphs[:index_test_start]\n",
    "list_of_graphs_test = list_of_graphs[index_test_start:]"
   ]
  },
  {
   "cell_type": "code",
   "execution_count": 8,
   "metadata": {
    "id": "qg_pY9fNMZJ8"
   },
   "outputs": [],
   "source": [
    "class MyModel(nn.Module):\n",
    "    def __init__(self):\n",
    "        super(MyModel, self).__init__()\n",
    "\n",
    "        self.lin_00 = nn.Linear(in_features=13, out_features=64)\n",
    "        self.ln_00 = nn.LayerNorm(64)\n",
    "        self.lin_01 = nn.Linear(in_features=64, out_features=128)\n",
    "        self.ln_01 = nn.LayerNorm(128)\n",
    "        self.lin_02 = nn.Linear(in_features=128, out_features=13)\n",
    "        self.ln_02 = nn.LayerNorm(13)\n",
    "\n",
    "        self.conv1 = pyg_nn.GCNConv(in_channels=13, out_channels=13)\n",
    "        self.conv2 = pyg_nn.GCNConv(in_channels=13, out_channels=13)\n",
    "\n",
    "        self.gravnet1 = GravNetConv(in_channels=13, out_channels=13, space_dimensions=8, propagate_dimensions=7, k=5)\n",
    "        self.gravnet2 = GravNetConv(in_channels=13, out_channels=13, space_dimensions=8, propagate_dimensions=7, k=5)\n",
    "\n",
    "        self.lin1 = nn.Linear(in_features=13, out_features=256)\n",
    "        self.ln1 = nn.LayerNorm(256)\n",
    "\n",
    "        self.lin2 = nn.Linear(in_features=256, out_features=256)\n",
    "        self.ln2 = nn.LayerNorm(256)\n",
    "\n",
    "        self.lin3 = nn.Linear(in_features=256, out_features=1)\n",
    "\n",
    "        self.relu = F.relu\n",
    "        self.sigmoid = torch.sigmoid\n",
    "        \n",
    "    def forward(self, data):\n",
    "\n",
    "        x = self.lin_00(data.x)\n",
    "        x = self.relu(x)\n",
    "        x = self.ln_00(x)\n",
    "        x = self.lin_01(x)\n",
    "        x = self.relu(x)\n",
    "        x = self.ln_01(x)\n",
    "        x = self.lin_02(x)\n",
    "        x = self.relu(x)\n",
    "        x = self.ln_02(x)\n",
    "        \n",
    "        x = self.gravnet1(x)\n",
    "#         x = self.conv1(x=x, edge_index=data.edge_index)\n",
    "        x = self.relu(x)\n",
    "        \n",
    "        x = self.gravnet2(x)\n",
    "        # x = self.conv2(x=x, edge_index=data.edge_index)\n",
    "        x = self.relu(x)\n",
    "\n",
    "        x = self.lin1(x)\n",
    "        x = self.relu(x)\n",
    "        x = self.ln1(x)\n",
    "\n",
    "        x = self.lin2(x)\n",
    "        x = self.relu(x)\n",
    "        x = self.ln2(x)\n",
    "\n",
    "        x = self.lin3(x)\n",
    "\n",
    "        out = self.sigmoid(x)\n",
    "\n",
    "        return out"
   ]
  },
  {
   "cell_type": "code",
   "execution_count": 9,
   "metadata": {},
   "outputs": [
    {
     "data": {
      "text/plain": [
       "False"
      ]
     },
     "execution_count": 9,
     "metadata": {},
     "output_type": "execute_result"
    }
   ],
   "source": [
    "torch.cuda.is_available()"
   ]
  },
  {
   "cell_type": "code",
   "execution_count": 10,
   "metadata": {
    "id": "u5RSfrU_c4G4"
   },
   "outputs": [],
   "source": [
    "learning_rate = 0.01\n",
    "num_epochs = 300\n",
    "\n",
    "device = torch.device(\"cuda:0\" if torch.cuda.is_available() and False else \"cpu\")\n",
    "model = MyModel()\n",
    "model = model.to(device)\n",
    "criterion = torch.nn.BCELoss()\n",
    "optimizer = torch.optim.Adam(model.parameters(), lr=learning_rate)"
   ]
  },
  {
   "cell_type": "code",
   "execution_count": null,
   "metadata": {
    "id": "IgTRUvIbfLna"
   },
   "outputs": [
    {
     "name": "stderr",
     "output_type": "stream",
     "text": [
      "100%|███████████████████████████████████████████████████████████████████████████████| 4349/4349 [01:26<00:00, 50.50it/s]\n"
     ]
    },
    {
     "name": "stdout",
     "output_type": "stream",
     "text": [
      "Epoch: 0 | Loss: 0.13893717 | Train Accuracy: 0.96543048 | Loss Test: 0.13824284 | Test Accuracy: 0.96500240\n"
     ]
    },
    {
     "name": "stderr",
     "output_type": "stream",
     "text": [
      "100%|███████████████████████████████████████████████████████████████████████████████| 4349/4349 [00:44<00:00, 97.93it/s]\n"
     ]
    },
    {
     "name": "stdout",
     "output_type": "stream",
     "text": [
      "Epoch: 1 | Loss: 0.13891547 | Train Accuracy: 0.96543667 | Loss Test: 0.13693436 | Test Accuracy: 0.96552783\n"
     ]
    },
    {
     "name": "stderr",
     "output_type": "stream",
     "text": [
      "100%|███████████████████████████████████████████████████████████████████████████████| 4349/4349 [00:44<00:00, 97.77it/s]\n"
     ]
    },
    {
     "name": "stdout",
     "output_type": "stream",
     "text": [
      "Epoch: 2 | Loss: 0.13843070 | Train Accuracy: 0.96559154 | Loss Test: 0.13860364 | Test Accuracy: 0.96460413\n"
     ]
    },
    {
     "name": "stderr",
     "output_type": "stream",
     "text": [
      "100%|███████████████████████████████████████████████████████████████████████████████| 4349/4349 [00:44<00:00, 97.15it/s]\n"
     ]
    },
    {
     "name": "stdout",
     "output_type": "stream",
     "text": [
      "Epoch: 3 | Loss: 0.13926158 | Train Accuracy: 0.96524257 | Loss Test: 0.13882457 | Test Accuracy: 0.96494002\n"
     ]
    },
    {
     "name": "stderr",
     "output_type": "stream",
     "text": [
      " 18%|██████████████▍                                                                 | 782/4349 [00:08<00:39, 90.35it/s]"
     ]
    }
   ],
   "source": [
    "accs = []\n",
    "losses = []\n",
    "\n",
    "for epoch in range(num_epochs):\n",
    "    correct = 0\n",
    "    correct_test = 0\n",
    "    total = 0\n",
    "    total_test = 0\n",
    "    total_loss = 0\n",
    "    total_loss_test = 0\n",
    "    \n",
    "\n",
    "    for graph in tqdm.tqdm(list_of_graphs_training):\n",
    "        model.train()\n",
    "\n",
    "        optimizer.zero_grad()\n",
    "        graph.to(device)\n",
    "        preds = model(graph)\n",
    "        labels = graph.y\n",
    "        loss = criterion(preds, labels)\n",
    "        loss.backward()\n",
    "\n",
    "        optimizer.step()\n",
    "\n",
    "        total_loss += loss.item()\n",
    "        correct += sum(abs((torch.round(preds) - labels)))\n",
    "        total += graph.num_nodes\n",
    "        \n",
    "    for graph in list_of_graphs_test:\n",
    "        model.eval()\n",
    "        graph.to(device)\n",
    "        preds = model(graph)\n",
    "        labels = graph.y\n",
    "        loss = criterion(preds, labels)\n",
    "\n",
    "        total_loss_test += loss.item()\n",
    "        correct_test += sum(abs((torch.round(preds) - labels)))\n",
    "        total_test += graph.num_nodes\n",
    "        \n",
    "    \n",
    "    accuracy = 1 - correct.item() / total\n",
    "    total_loss /= len(list_of_graphs_training)\n",
    "    accuracy_test = 1 - correct_test.item() / total_test\n",
    "    total_loss_test /= len(list_of_graphs_test)\n",
    "    accs.append(accuracy)\n",
    "    losses.append(total_loss)\n",
    "    print('Epoch: %d | Loss: %.8f | Train Accuracy: %.8f | Loss Test: %.8f | Test Accuracy: %.8f' \\\n",
    "          %(epoch, total_loss, accuracy, total_loss_test, accuracy_test))"
   ]
  },
  {
   "cell_type": "code",
   "execution_count": null,
   "metadata": {
    "id": "_PsOwpc7sn2f"
   },
   "outputs": [],
   "source": [
    "model_name = \"GCNConv\"\n",
    "model_name_cat = \"GCNConv\""
   ]
  },
  {
   "cell_type": "code",
   "execution_count": null,
   "metadata": {
    "id": "GggtsA8JeLeV"
   },
   "outputs": [],
   "source": [
    "preds = []\n",
    "labels = []\n",
    "\n",
    "for graph in list_of_graphs_testing:\n",
    "  graph.to(device)\n",
    "  pred = model(graph)\n",
    "  label = graph.y\n",
    "  preds.append(pred)\n",
    "  labels.append(label)"
   ]
  },
  {
   "cell_type": "code",
   "execution_count": null,
   "metadata": {
    "id": "Usxkfr1xnodZ"
   },
   "outputs": [],
   "source": [
    "preds = torch.cat(preds).to(\"cpu\").detach().numpy()\n",
    "labels = torch.cat(labels).to(\"cpu\").detach().numpy()"
   ]
  },
  {
   "cell_type": "code",
   "execution_count": null,
   "metadata": {
    "id": "W4yYzSRjr5IT"
   },
   "outputs": [],
   "source": [
    "plt.title(f\"{model_name}\")\n",
    "plt.plot(losses, label=\"training loss\")\n",
    "plt.plot(accs, label=\"training accuracy\")\n",
    "plt.legend()"
   ]
  },
  {
   "cell_type": "code",
   "execution_count": null,
   "metadata": {
    "id": "9ppCpf1Ii8No"
   },
   "outputs": [],
   "source": [
    "from sklearn.metrics import roc_curve\n",
    "from sklearn.metrics import auc\n",
    "\n",
    "fpr_keras, tpr_keras, thresholds_keras = roc_curve(labels, preds)\n",
    "auc_keras = auc(fpr_keras, tpr_keras)\n",
    "\n",
    "plt.figure(1)\n",
    "plt.plot([0, 1], [0, 1], 'k--')\n",
    "plt.plot(fpr_keras, tpr_keras, label='(AUC = {:.3f})'.format(auc_keras))\n",
    "plt.xlabel('False positive rate')\n",
    "plt.ylabel('True positive rate')\n",
    "plt.title(f'ROC curve ({model_name})')\n",
    "plt.legend(loc='best')\n",
    "plt.show()"
   ]
  },
  {
   "cell_type": "code",
   "execution_count": null,
   "metadata": {
    "id": "qu5n78m1vBdQ"
   },
   "outputs": [],
   "source": [
    "from sklearn.metrics import precision_recall_curve, f1_score, auc\n",
    "\n",
    "precision, recall, thresholds = precision_recall_curve(labels, preds)\n",
    "auc = auc(recall, precision)\n",
    "\n",
    "no_skill = len(labels[labels==1]) / len(labels)\n",
    "plt.plot([0, 1], [no_skill, no_skill], linestyle='--', label='No Skill')\n",
    "plt.plot(recall, precision, marker='.', label=f'{model_name}')\n",
    "plt.xlabel('Recall')\n",
    "plt.ylabel('Precision')\n",
    "plt.text(0.8, 0.8, '(AUC = {:.3f})'.format(auc))\n",
    "plt.title(f\"{model_name} precision-recall curve\")\n",
    "plt.legend()\n",
    "plt.show()"
   ]
  },
  {
   "cell_type": "code",
   "execution_count": null,
   "metadata": {
    "id": "c3qOuVIj-yEx"
   },
   "outputs": [],
   "source": [
    "torch.save(model.state_dict(), f'/home/jonas/Documents/physics/lhcb/dfei/irishep/data/IRIS-HEP_DFEI/{model_name_cat}_150epochs_first_save.pickle')"
   ]
  },
  {
   "cell_type": "code",
   "execution_count": null,
   "metadata": {
    "id": "mAIUa9Uw-yM7"
   },
   "outputs": [],
   "source": [
    "with open(f'/home/jonas/Documents/physics/lhcb/dfei/irishep/data/IRIS-HEP_DFEI/{model_name_cat}_150epochs_first_save_accs.pickle', 'wb') as handle:\n",
    "    pickle.dump(accs, handle, protocol=pickle.HIGHEST_PROTOCOL)\n",
    "\n",
    "with open(f'/home/jonas/Documents/physics/lhcb/dfei/irishep/data/IRIS-HEP_DFEI/{model_name_cat}_150epochs_first_save_losses.pickle', 'wb') as handle:\n",
    "    pickle.dump(losses, handle, protocol=pickle.HIGHEST_PROTOCOL)"
   ]
  },
  {
   "cell_type": "code",
   "execution_count": null,
   "metadata": {},
   "outputs": [],
   "source": []
  }
 ],
 "metadata": {
  "accelerator": "GPU",
  "colab": {
   "machine_shape": "hm",
   "provenance": []
  },
  "gpuClass": "standard",
  "kernelspec": {
   "display_name": "Python 3 (ipykernel)",
   "language": "python",
   "name": "python3"
  },
  "language_info": {
   "codemirror_mode": {
    "name": "ipython",
    "version": 3
   },
   "file_extension": ".py",
   "mimetype": "text/x-python",
   "name": "python",
   "nbconvert_exporter": "python",
   "pygments_lexer": "ipython3",
   "version": "3.9.16"
  }
 },
 "nbformat": 4,
 "nbformat_minor": 1
}
