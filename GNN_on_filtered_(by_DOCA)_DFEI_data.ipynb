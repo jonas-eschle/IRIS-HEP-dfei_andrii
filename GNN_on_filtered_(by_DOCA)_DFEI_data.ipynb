{
 "cells": [
  {
   "cell_type": "code",
   "execution_count": null,
   "metadata": {
    "id": "sUx1lDD27-Y6"
   },
   "outputs": [],
   "source": []
  },
  {
   "cell_type": "code",
   "execution_count": 1,
   "metadata": {
    "id": "nuGMiWS-xmxg"
   },
   "outputs": [],
   "source": [
    "# !pip install uproot"
   ]
  },
  {
   "cell_type": "code",
   "execution_count": 2,
   "metadata": {
    "id": "DYHOzRzey66v"
   },
   "outputs": [],
   "source": [
    "# !pip install --target=$nb_path -q torch-scatter -f https://pytorch-geometric.com/whl/torch-1.7.0+cu101.html\n",
    "# !pip install --target=$nb_path -q torch-sparse -f https://pytorch-geometric.com/whl/torch-1.7.0+cu101.html\n",
    "# !pip install --target=$nb_path -q torch-geometric"
   ]
  },
  {
   "cell_type": "code",
   "execution_count": 3,
   "metadata": {
    "id": "6kATtPp5qjQC"
   },
   "outputs": [],
   "source": [
    "# !pip install --target=$nb_path -q torch-cluster -f https://pytorch-geometric.com/whl/torch-1.7.0+cu101.html"
   ]
  },
  {
   "cell_type": "code",
   "execution_count": 4,
   "metadata": {},
   "outputs": [],
   "source": [
    "# !pip install torch-cluster"
   ]
  },
  {
   "cell_type": "code",
   "execution_count": 5,
   "metadata": {
    "id": "bnbpkwjty9A9"
   },
   "outputs": [],
   "source": [
    "import torch\n",
    "import torch.nn as nn\n",
    "import torch.nn.functional as F\n",
    "\n",
    "import torch_geometric.nn as pyg_nn\n",
    "import torch_geometric.utils as pyg_utils\n",
    "\n",
    "import time\n",
    "from datetime import datetime\n",
    "import tqdm\n",
    "\n",
    "import networkx as nx\n",
    "import numpy as np\n",
    "import torch\n",
    "import torch.optim as optim\n",
    "\n",
    "from torch_geometric.datasets import TUDataset\n",
    "from torch_geometric.datasets import Planetoid\n",
    "from torch_geometric.data import DataLoader\n",
    "\n",
    "import torch_geometric.transforms as T\n",
    "\n",
    "from sklearn.manifold import TSNE\n",
    "import matplotlib.pyplot as plt\n",
    "import pickle\n",
    "import torch_cluster\n",
    "from torch_geometric.nn import GravNetConv"
   ]
  },
  {
   "cell_type": "code",
   "execution_count": 6,
   "metadata": {
    "id": "9oI1EhGAhYXJ"
   },
   "outputs": [],
   "source": [
    "# getting the data\n",
    "\n",
    "with open('/home/jonas/Documents/physics/lhcb/dfei/irishep/data/IRIS-HEP_DFEI/list_of_graphs_from_filtered_data_k10.pickle', 'rb') as f:\n",
    "    list_of_graphs = pickle.load(f)"
   ]
  },
  {
   "cell_type": "code",
   "execution_count": 7,
   "metadata": {},
   "outputs": [],
   "source": [
    "frac_test = 0.3\n",
    "index_test_start = int(len(list_of_graphs) * (1 - frac_test))\n",
    "list_of_graphs_training = list_of_graphs[:index_test_start]\n",
    "list_of_graphs_test = list_of_graphs[index_test_start:]"
   ]
  },
  {
   "cell_type": "code",
   "execution_count": 8,
   "metadata": {
    "id": "qg_pY9fNMZJ8"
   },
   "outputs": [],
   "source": [
    "k = 10\n",
    "class MyModel(nn.Module):\n",
    "    def __init__(self):\n",
    "        super(MyModel, self).__init__()\n",
    "\n",
    "        self.lin_00 = nn.Linear(in_features=13, out_features=64)\n",
    "        self.ln_00 = nn.LayerNorm(64)\n",
    "        self.lin_01 = nn.Linear(in_features=64, out_features=128)\n",
    "        self.ln_01 = nn.LayerNorm(128)\n",
    "        self.lin_02 = nn.Linear(in_features=128, out_features=13)\n",
    "        self.ln_02 = nn.LayerNorm(13)\n",
    "\n",
    "        self.conv1 = pyg_nn.GCNConv(in_channels=13, out_channels=13)\n",
    "        self.conv2 = pyg_nn.GCNConv(in_channels=13, out_channels=13)\n",
    "\n",
    "        self.gravnet1 = GravNetConv(in_channels=13, out_channels=13, space_dimensions=8, propagate_dimensions=7, k=k)\n",
    "        self.gravnet2 = GravNetConv(in_channels=13, out_channels=13, space_dimensions=8, propagate_dimensions=7, k=k)\n",
    "\n",
    "        self.lin1 = nn.Linear(in_features=13, out_features=256)\n",
    "        self.ln1 = nn.LayerNorm(256)\n",
    "\n",
    "        self.lin2 = nn.Linear(in_features=256, out_features=256)\n",
    "        self.ln2 = nn.LayerNorm(256)\n",
    "\n",
    "        self.lin3 = nn.Linear(in_features=256, out_features=1)\n",
    "\n",
    "        self.relu = F.relu\n",
    "        self.sigmoid = torch.sigmoid\n",
    "        \n",
    "    def forward(self, data):\n",
    "\n",
    "        x = self.lin_00(data.x)\n",
    "        x = self.relu(x)\n",
    "        x = self.ln_00(x)\n",
    "        x = self.lin_01(x)\n",
    "        x = self.relu(x)\n",
    "        x = self.ln_01(x)\n",
    "        x = self.lin_02(x)\n",
    "        x = self.relu(x)\n",
    "        x = self.ln_02(x)\n",
    "        \n",
    "        x = self.gravnet1(data.x)\n",
    "#         x = self.conv1(x=x, edge_index=data.edge_index)\n",
    "        x = self.relu(x)\n",
    "        \n",
    "        x = self.gravnet2(x)\n",
    "        # x = self.conv2(x=x, edge_index=data.edge_index)\n",
    "        x = self.relu(x)\n",
    "\n",
    "        x = self.lin1(x)\n",
    "        x = self.relu(x)\n",
    "        x = self.ln1(x)\n",
    "\n",
    "        x = self.lin2(x)\n",
    "        x = self.relu(x)\n",
    "        x = self.ln2(x)\n",
    "\n",
    "        x = self.lin3(x)\n",
    "\n",
    "        out = self.sigmoid(x)\n",
    "\n",
    "        return out"
   ]
  },
  {
   "cell_type": "code",
   "execution_count": 9,
   "metadata": {},
   "outputs": [
    {
     "data": {
      "text/plain": [
       "True"
      ]
     },
     "execution_count": 9,
     "metadata": {},
     "output_type": "execute_result"
    }
   ],
   "source": [
    "torch.cuda.is_available()"
   ]
  },
  {
   "cell_type": "code",
   "execution_count": 10,
   "metadata": {
    "id": "u5RSfrU_c4G4"
   },
   "outputs": [],
   "source": [
    "learning_rate = 0.01\n",
    "num_epochs = 300\n",
    "\n",
    "device = torch.device(\"cuda:0\" if torch.cuda.is_available() else \"cpu\")\n",
    "model = MyModel()\n",
    "model = model.to(device)\n",
    "criterion = torch.nn.BCELoss()\n",
    "optimizer = torch.optim.Adam(model.parameters(), lr=learning_rate)"
   ]
  },
  {
   "cell_type": "code",
   "execution_count": null,
   "metadata": {
    "id": "IgTRUvIbfLna"
   },
   "outputs": [
    {
     "name": "stderr",
     "output_type": "stream",
     "text": [
      "100%|██████████████████████████████████████████████████████████████████████████████| 4312/4312 [00:42<00:00, 100.60it/s]\n"
     ]
    },
    {
     "name": "stdout",
     "output_type": "stream",
     "text": [
      "Epoch: 0 | Loss: 0.24197411 | Train Accuracy: 0.94560717 | Loss Test: 0.22222280 | Test Accuracy: 0.94678227\n"
     ]
    },
    {
     "name": "stderr",
     "output_type": "stream",
     "text": [
      "100%|██████████████████████████████████████████████████████████████████████████████| 4312/4312 [00:42<00:00, 101.29it/s]\n"
     ]
    },
    {
     "name": "stdout",
     "output_type": "stream",
     "text": [
      "Epoch: 1 | Loss: 0.19257607 | Train Accuracy: 0.94752239 | Loss Test: 0.17055855 | Test Accuracy: 0.95069104\n"
     ]
    },
    {
     "name": "stderr",
     "output_type": "stream",
     "text": [
      "100%|██████████████████████████████████████████████████████████████████████████████| 4312/4312 [00:42<00:00, 101.05it/s]\n"
     ]
    },
    {
     "name": "stdout",
     "output_type": "stream",
     "text": [
      "Epoch: 2 | Loss: 0.17411900 | Train Accuracy: 0.95309311 | Loss Test: 0.17614316 | Test Accuracy: 0.95430267\n"
     ]
    },
    {
     "name": "stderr",
     "output_type": "stream",
     "text": [
      "100%|███████████████████████████████████████████████████████████████████████████████| 4312/4312 [00:43<00:00, 98.33it/s]\n"
     ]
    },
    {
     "name": "stdout",
     "output_type": "stream",
     "text": [
      "Epoch: 3 | Loss: 0.17405637 | Train Accuracy: 0.95328265 | Loss Test: 0.15730427 | Test Accuracy: 0.95530522\n"
     ]
    },
    {
     "name": "stderr",
     "output_type": "stream",
     "text": [
      "100%|██████████████████████████████████████████████████████████████████████████████| 4312/4312 [00:42<00:00, 101.06it/s]\n"
     ]
    },
    {
     "name": "stdout",
     "output_type": "stream",
     "text": [
      "Epoch: 4 | Loss: 0.16388870 | Train Accuracy: 0.95571652 | Loss Test: 0.15445665 | Test Accuracy: 0.95720163\n"
     ]
    },
    {
     "name": "stderr",
     "output_type": "stream",
     "text": [
      "100%|██████████████████████████████████████████████████████████████████████████████| 4312/4312 [00:40<00:00, 105.39it/s]\n"
     ]
    },
    {
     "name": "stdout",
     "output_type": "stream",
     "text": [
      "Epoch: 5 | Loss: 0.16296661 | Train Accuracy: 0.95655905 | Loss Test: 0.15657344 | Test Accuracy: 0.95574973\n"
     ]
    },
    {
     "name": "stderr",
     "output_type": "stream",
     "text": [
      "100%|███████████████████████████████████████████████████████████████████████████████| 4312/4312 [00:43<00:00, 98.26it/s]\n"
     ]
    },
    {
     "name": "stdout",
     "output_type": "stream",
     "text": [
      "Epoch: 6 | Loss: 0.16251264 | Train Accuracy: 0.95727348 | Loss Test: 0.15120667 | Test Accuracy: 0.95882505\n"
     ]
    },
    {
     "name": "stderr",
     "output_type": "stream",
     "text": [
      "100%|██████████████████████████████████████████████████████████████████████████████| 4312/4312 [00:41<00:00, 102.83it/s]\n"
     ]
    },
    {
     "name": "stdout",
     "output_type": "stream",
     "text": [
      "Epoch: 7 | Loss: 0.16029168 | Train Accuracy: 0.95757446 | Loss Test: 0.16011102 | Test Accuracy: 0.95882022\n"
     ]
    },
    {
     "name": "stderr",
     "output_type": "stream",
     "text": [
      "100%|██████████████████████████████████████████████████████████████████████████████| 4312/4312 [00:41<00:00, 102.69it/s]\n"
     ]
    },
    {
     "name": "stdout",
     "output_type": "stream",
     "text": [
      "Epoch: 8 | Loss: 0.16533335 | Train Accuracy: 0.95568527 | Loss Test: 0.17222234 | Test Accuracy: 0.95396445\n"
     ]
    },
    {
     "name": "stderr",
     "output_type": "stream",
     "text": [
      "100%|██████████████████████████████████████████████████████████████████████████████| 4312/4312 [00:42<00:00, 100.35it/s]\n"
     ]
    },
    {
     "name": "stdout",
     "output_type": "stream",
     "text": [
      "Epoch: 9 | Loss: 0.15962611 | Train Accuracy: 0.95748073 | Loss Test: 0.15190577 | Test Accuracy: 0.95843369\n"
     ]
    },
    {
     "name": "stderr",
     "output_type": "stream",
     "text": [
      "100%|██████████████████████████████████████████████████████████████████████████████| 4312/4312 [00:42<00:00, 100.48it/s]\n"
     ]
    },
    {
     "name": "stdout",
     "output_type": "stream",
     "text": [
      "Epoch: 10 | Loss: 0.16267959 | Train Accuracy: 0.95714747 | Loss Test: 0.15969424 | Test Accuracy: 0.95581254\n"
     ]
    },
    {
     "name": "stderr",
     "output_type": "stream",
     "text": [
      "100%|███████████████████████████████████████████████████████████████████████████████| 4312/4312 [00:43<00:00, 99.30it/s]\n"
     ]
    },
    {
     "name": "stdout",
     "output_type": "stream",
     "text": [
      "Epoch: 11 | Loss: 0.15976403 | Train Accuracy: 0.95739325 | Loss Test: 0.16019471 | Test Accuracy: 0.95450318\n"
     ]
    },
    {
     "name": "stderr",
     "output_type": "stream",
     "text": [
      "100%|███████████████████████████████████████████████████████████████████████████████| 4312/4312 [00:44<00:00, 97.74it/s]\n"
     ]
    },
    {
     "name": "stdout",
     "output_type": "stream",
     "text": [
      "Epoch: 12 | Loss: 0.16461731 | Train Accuracy: 0.95616017 | Loss Test: 0.15567129 | Test Accuracy: 0.95801576\n"
     ]
    },
    {
     "name": "stderr",
     "output_type": "stream",
     "text": [
      "100%|███████████████████████████████████████████████████████████████████████████████| 4312/4312 [00:43<00:00, 98.98it/s]\n"
     ]
    },
    {
     "name": "stdout",
     "output_type": "stream",
     "text": [
      "Epoch: 13 | Loss: 0.15989537 | Train Accuracy: 0.95751927 | Loss Test: 0.15713674 | Test Accuracy: 0.95748428\n"
     ]
    },
    {
     "name": "stderr",
     "output_type": "stream",
     "text": [
      "100%|██████████████████████████████████████████████████████████████████████████████| 4312/4312 [00:42<00:00, 100.64it/s]\n"
     ]
    },
    {
     "name": "stdout",
     "output_type": "stream",
     "text": [
      "Epoch: 14 | Loss: 0.15806235 | Train Accuracy: 0.95811185 | Loss Test: 0.15160110 | Test Accuracy: 0.95914635\n"
     ]
    },
    {
     "name": "stderr",
     "output_type": "stream",
     "text": [
      "100%|██████████████████████████████████████████████████████████████████████████████| 4312/4312 [00:42<00:00, 102.00it/s]\n"
     ]
    },
    {
     "name": "stdout",
     "output_type": "stream",
     "text": [
      "Epoch: 15 | Loss: 0.15580276 | Train Accuracy: 0.95862529 | Loss Test: 0.15041033 | Test Accuracy: 0.95892168\n"
     ]
    },
    {
     "name": "stderr",
     "output_type": "stream",
     "text": [
      "100%|███████████████████████████████████████████████████████████████████████████████| 4312/4312 [00:44<00:00, 97.20it/s]\n"
     ]
    },
    {
     "name": "stdout",
     "output_type": "stream",
     "text": [
      "Epoch: 16 | Loss: 0.15874560 | Train Accuracy: 0.95766090 | Loss Test: 0.15269232 | Test Accuracy: 0.95784423\n"
     ]
    },
    {
     "name": "stderr",
     "output_type": "stream",
     "text": [
      "100%|██████████████████████████████████████████████████████████████████████████████| 4312/4312 [00:43<00:00, 100.11it/s]\n"
     ]
    },
    {
     "name": "stdout",
     "output_type": "stream",
     "text": [
      "Epoch: 17 | Loss: 0.15932912 | Train Accuracy: 0.95763174 | Loss Test: 0.15499209 | Test Accuracy: 0.95918742\n"
     ]
    },
    {
     "name": "stderr",
     "output_type": "stream",
     "text": [
      "100%|███████████████████████████████████████████████████████████████████████████████| 4312/4312 [00:43<00:00, 99.88it/s]\n"
     ]
    },
    {
     "name": "stdout",
     "output_type": "stream",
     "text": [
      "Epoch: 18 | Loss: 0.15687547 | Train Accuracy: 0.95874609 | Loss Test: 0.15227566 | Test Accuracy: 0.95966817\n"
     ]
    },
    {
     "name": "stderr",
     "output_type": "stream",
     "text": [
      "100%|███████████████████████████████████████████████████████████████████████████████| 4312/4312 [00:43<00:00, 98.72it/s]\n"
     ]
    },
    {
     "name": "stdout",
     "output_type": "stream",
     "text": [
      "Epoch: 19 | Loss: 0.15577970 | Train Accuracy: 0.95883670 | Loss Test: 0.15166904 | Test Accuracy: 0.95785148\n"
     ]
    },
    {
     "name": "stderr",
     "output_type": "stream",
     "text": [
      "100%|██████████████████████████████████████████████████████████████████████████████| 4312/4312 [00:42<00:00, 101.88it/s]\n"
     ]
    },
    {
     "name": "stdout",
     "output_type": "stream",
     "text": [
      "Epoch: 20 | Loss: 0.15711375 | Train Accuracy: 0.95824099 | Loss Test: 0.16514154 | Test Accuracy: 0.95131673\n"
     ]
    },
    {
     "name": "stderr",
     "output_type": "stream",
     "text": [
      "100%|██████████████████████████████████████████████████████████████████████████████| 4312/4312 [00:42<00:00, 101.57it/s]\n"
     ]
    },
    {
     "name": "stdout",
     "output_type": "stream",
     "text": [
      "Epoch: 21 | Loss: 0.15750728 | Train Accuracy: 0.95857321 | Loss Test: 0.15191419 | Test Accuracy: 0.95990250\n"
     ]
    },
    {
     "name": "stderr",
     "output_type": "stream",
     "text": [
      "100%|██████████████████████████████████████████████████████████████████████████████| 4312/4312 [00:42<00:00, 102.46it/s]\n"
     ]
    },
    {
     "name": "stdout",
     "output_type": "stream",
     "text": [
      "Epoch: 22 | Loss: 0.15831379 | Train Accuracy: 0.95814934 | Loss Test: 0.14899272 | Test Accuracy: 0.95994357\n"
     ]
    },
    {
     "name": "stderr",
     "output_type": "stream",
     "text": [
      "100%|██████████████████████████████████████████████████████████████████████████████| 4312/4312 [00:41<00:00, 104.64it/s]\n"
     ]
    },
    {
     "name": "stdout",
     "output_type": "stream",
     "text": [
      "Epoch: 23 | Loss: 0.15707111 | Train Accuracy: 0.95830556 | Loss Test: 0.15542797 | Test Accuracy: 0.95699870\n"
     ]
    },
    {
     "name": "stderr",
     "output_type": "stream",
     "text": [
      "100%|██████████████████████████████████████████████████████████████████████████████| 4312/4312 [00:41<00:00, 103.76it/s]\n"
     ]
    },
    {
     "name": "stdout",
     "output_type": "stream",
     "text": [
      "Epoch: 24 | Loss: 0.15609657 | Train Accuracy: 0.95891064 | Loss Test: 0.15396459 | Test Accuracy: 0.95874533\n"
     ]
    },
    {
     "name": "stderr",
     "output_type": "stream",
     "text": [
      "100%|██████████████████████████████████████████████████████████████████████████████| 4312/4312 [00:41<00:00, 102.90it/s]\n"
     ]
    },
    {
     "name": "stdout",
     "output_type": "stream",
     "text": [
      "Epoch: 25 | Loss: 0.15749241 | Train Accuracy: 0.95812018 | Loss Test: 0.15051514 | Test Accuracy: 0.96031318\n"
     ]
    },
    {
     "name": "stderr",
     "output_type": "stream",
     "text": [
      "100%|██████████████████████████████████████████████████████████████████████████████| 4312/4312 [00:41<00:00, 104.25it/s]\n"
     ]
    },
    {
     "name": "stdout",
     "output_type": "stream",
     "text": [
      "Epoch: 26 | Loss: 0.15682927 | Train Accuracy: 0.95870756 | Loss Test: 0.17828270 | Test Accuracy: 0.95402002\n"
     ]
    },
    {
     "name": "stderr",
     "output_type": "stream",
     "text": [
      "100%|██████████████████████████████████████████████████████████████████████████████| 4312/4312 [00:41<00:00, 102.73it/s]\n"
     ]
    },
    {
     "name": "stdout",
     "output_type": "stream",
     "text": [
      "Epoch: 27 | Loss: 0.15500879 | Train Accuracy: 0.95909602 | Loss Test: 0.14974452 | Test Accuracy: 0.96008852\n"
     ]
    },
    {
     "name": "stderr",
     "output_type": "stream",
     "text": [
      "100%|██████████████████████████████████████████████████████████████████████████████| 4312/4312 [00:42<00:00, 101.17it/s]\n"
     ]
    },
    {
     "name": "stdout",
     "output_type": "stream",
     "text": [
      "Epoch: 28 | Loss: 0.15560179 | Train Accuracy: 0.95886482 | Loss Test: 0.15988205 | Test Accuracy: 0.95670881\n"
     ]
    },
    {
     "name": "stderr",
     "output_type": "stream",
     "text": [
      "100%|██████████████████████████████████████████████████████████████████████████████| 4312/4312 [00:42<00:00, 101.35it/s]\n"
     ]
    },
    {
     "name": "stdout",
     "output_type": "stream",
     "text": [
      "Epoch: 29 | Loss: 0.15734711 | Train Accuracy: 0.95803478 | Loss Test: 0.15568715 | Test Accuracy: 0.95807615\n"
     ]
    },
    {
     "name": "stderr",
     "output_type": "stream",
     "text": [
      "100%|██████████████████████████████████████████████████████████████████████████████| 4312/4312 [00:42<00:00, 101.52it/s]\n"
     ]
    },
    {
     "name": "stdout",
     "output_type": "stream",
     "text": [
      "Epoch: 30 | Loss: 0.16339674 | Train Accuracy: 0.95599979 | Loss Test: 0.15300454 | Test Accuracy: 0.95769929\n"
     ]
    },
    {
     "name": "stderr",
     "output_type": "stream",
     "text": [
      "100%|██████████████████████████████████████████████████████████████████████████████| 4312/4312 [00:42<00:00, 101.17it/s]\n"
     ]
    },
    {
     "name": "stdout",
     "output_type": "stream",
     "text": [
      "Epoch: 31 | Loss: 0.15586045 | Train Accuracy: 0.95863987 | Loss Test: 0.14941346 | Test Accuracy: 0.96003054\n"
     ]
    },
    {
     "name": "stderr",
     "output_type": "stream",
     "text": [
      "100%|██████████████████████████████████████████████████████████████████████████████| 4312/4312 [00:42<00:00, 101.94it/s]\n"
     ]
    },
    {
     "name": "stdout",
     "output_type": "stream",
     "text": [
      "Epoch: 32 | Loss: 0.15436986 | Train Accuracy: 0.95925745 | Loss Test: 0.15043973 | Test Accuracy: 0.96004745\n"
     ]
    },
    {
     "name": "stderr",
     "output_type": "stream",
     "text": [
      "100%|██████████████████████████████████████████████████████████████████████████████| 4312/4312 [00:42<00:00, 100.58it/s]\n"
     ]
    },
    {
     "name": "stdout",
     "output_type": "stream",
     "text": [
      "Epoch: 33 | Loss: 0.15479997 | Train Accuracy: 0.95924495 | Loss Test: 0.15311111 | Test Accuracy: 0.95883471\n"
     ]
    },
    {
     "name": "stderr",
     "output_type": "stream",
     "text": [
      "100%|██████████████████████████████████████████████████████████████████████████████| 4312/4312 [00:41<00:00, 104.20it/s]\n"
     ]
    },
    {
     "name": "stdout",
     "output_type": "stream",
     "text": [
      "Epoch: 34 | Loss: 0.15511626 | Train Accuracy: 0.95917309 | Loss Test: 0.15049521 | Test Accuracy: 0.96000879\n"
     ]
    },
    {
     "name": "stderr",
     "output_type": "stream",
     "text": [
      "100%|██████████████████████████████████████████████████████████████████████████████| 4312/4312 [00:41<00:00, 104.10it/s]\n"
     ]
    },
    {
     "name": "stdout",
     "output_type": "stream",
     "text": [
      "Epoch: 35 | Loss: 0.15465656 | Train Accuracy: 0.95935951 | Loss Test: 0.14994428 | Test Accuracy: 0.96029869\n"
     ]
    },
    {
     "name": "stderr",
     "output_type": "stream",
     "text": [
      " 36%|████████████████████████████                                                   | 1535/4312 [00:15<00:28, 98.29it/s]"
     ]
    }
   ],
   "source": [
    "accs = []\n",
    "losses = []\n",
    "\n",
    "for epoch in range(num_epochs):\n",
    "    correct = 0\n",
    "    correct_test = 0\n",
    "    total = 0\n",
    "    total_test = 0\n",
    "    total_loss = 0\n",
    "    total_loss_test = 0\n",
    "    \n",
    "\n",
    "    for graph in tqdm.tqdm(list_of_graphs_training):\n",
    "        model.train()\n",
    "\n",
    "        optimizer.zero_grad()\n",
    "        graph.to(device)\n",
    "        preds = model(graph)\n",
    "        labels = graph.y\n",
    "        loss = criterion(preds, labels)\n",
    "        loss.backward()\n",
    "\n",
    "        optimizer.step()\n",
    "\n",
    "        total_loss += loss.item()\n",
    "        correct += sum(abs((torch.round(preds) - labels)))\n",
    "        total += graph.num_nodes\n",
    "        \n",
    "    for graph in list_of_graphs_test:\n",
    "        model.eval()\n",
    "        graph.to(device)\n",
    "        preds = model(graph)\n",
    "        labels = graph.y\n",
    "        loss = criterion(preds, labels)\n",
    "\n",
    "        total_loss_test += loss.item()\n",
    "        correct_test += sum(abs((torch.round(preds) - labels)))\n",
    "        total_test += graph.num_nodes\n",
    "        \n",
    "    \n",
    "    accuracy = 1 - correct.item() / total\n",
    "    total_loss /= len(list_of_graphs_training)\n",
    "    accuracy_test = 1 - correct_test.item() / total_test\n",
    "    total_loss_test /= len(list_of_graphs_test)\n",
    "    accs.append(accuracy)\n",
    "    losses.append(total_loss)\n",
    "    print('Epoch: %d | Loss: %.8f | Train Accuracy: %.8f | Loss Test: %.8f | Test Accuracy: %.8f' \\\n",
    "          %(epoch, total_loss, accuracy, total_loss_test, accuracy_test))"
   ]
  },
  {
   "cell_type": "code",
   "execution_count": null,
   "metadata": {
    "id": "_PsOwpc7sn2f"
   },
   "outputs": [],
   "source": [
    "# model_name = \"GCNConv\"\n",
    "# model_name_cat = \"GCNConv\"\n",
    "model_name = f\"GravNet_k{K}\"\n",
    "model_name_cat = f\"GravNet_k{K}\""
   ]
  },
  {
   "cell_type": "code",
   "execution_count": null,
   "metadata": {
    "id": "GggtsA8JeLeV"
   },
   "outputs": [],
   "source": [
    "preds = []\n",
    "labels = []\n",
    "\n",
    "for graph in list_of_graphs_test:\n",
    "  graph.to(device)\n",
    "  pred = model(graph)\n",
    "  label = graph.y\n",
    "  preds.append(pred)\n",
    "  labels.append(label)"
   ]
  },
  {
   "cell_type": "code",
   "execution_count": null,
   "metadata": {
    "id": "Usxkfr1xnodZ"
   },
   "outputs": [],
   "source": [
    "preds = torch.cat(preds).to(\"cpu\").detach().numpy()\n",
    "labels = torch.cat(labels).to(\"cpu\").detach().numpy()"
   ]
  },
  {
   "cell_type": "code",
   "execution_count": null,
   "metadata": {
    "id": "W4yYzSRjr5IT"
   },
   "outputs": [],
   "source": [
    "plt.title(f\"{model_name}\")\n",
    "plt.plot(losses, label=\"training loss\")\n",
    "plt.plot(accs, label=\"training accuracy\")\n",
    "plt.legend()"
   ]
  },
  {
   "cell_type": "code",
   "execution_count": null,
   "metadata": {
    "id": "9ppCpf1Ii8No"
   },
   "outputs": [],
   "source": [
    "from sklearn.metrics import roc_curve\n",
    "from sklearn.metrics import auc\n",
    "\n",
    "fpr_keras, tpr_keras, thresholds_keras = roc_curve(labels, preds)\n",
    "auc_keras = auc(fpr_keras, tpr_keras)\n",
    "\n",
    "plt.figure(1)\n",
    "plt.plot([0, 1], [0, 1], 'k--')\n",
    "plt.plot(fpr_keras, tpr_keras, label='(AUC = {:.3f})'.format(auc_keras))\n",
    "plt.xlabel('False positive rate')\n",
    "plt.ylabel('True positive rate')\n",
    "plt.title(f'ROC curve ({model_name})')\n",
    "plt.legend(loc='best')\n",
    "plt.show()"
   ]
  },
  {
   "cell_type": "code",
   "execution_count": null,
   "metadata": {
    "id": "qu5n78m1vBdQ"
   },
   "outputs": [],
   "source": [
    "from sklearn.metrics import precision_recall_curve, f1_score, auc\n",
    "\n",
    "precision, recall, thresholds = precision_recall_curve(labels, preds)\n",
    "auc = auc(recall, precision)\n",
    "\n",
    "no_skill = len(labels[labels==1]) / len(labels)\n",
    "plt.plot([0, 1], [no_skill, no_skill], linestyle='--', label='No Skill')\n",
    "plt.plot(recall, precision, marker='.', label=f'{model_name}')\n",
    "plt.xlabel('Recall')\n",
    "plt.ylabel('Precision')\n",
    "plt.text(0.8, 0.8, '(AUC = {:.3f})'.format(auc))\n",
    "plt.title(f\"{model_name} precision-recall curve\")\n",
    "plt.legend()\n",
    "plt.show()"
   ]
  },
  {
   "cell_type": "code",
   "execution_count": null,
   "metadata": {
    "id": "c3qOuVIj-yEx"
   },
   "outputs": [],
   "source": [
    "torch.save(model.state_dict(), f'/home/jonas/Documents/physics/lhcb/dfei/irishep/data/IRIS-HEP_DFEI/{model_name_cat}_150epochs_first_save.pickle')"
   ]
  },
  {
   "cell_type": "code",
   "execution_count": null,
   "metadata": {
    "id": "mAIUa9Uw-yM7"
   },
   "outputs": [],
   "source": [
    "with open(f'/home/jonas/Documents/physics/lhcb/dfei/irishep/data/IRIS-HEP_DFEI/{model_name_cat}_150epochs_first_save_accs.pickle', 'wb') as handle:\n",
    "    pickle.dump(accs, handle, protocol=pickle.HIGHEST_PROTOCOL)\n",
    "\n",
    "with open(f'/home/jonas/Documents/physics/lhcb/dfei/irishep/data/IRIS-HEP_DFEI/{model_name_cat}_150epochs_first_save_losses.pickle', 'wb') as handle:\n",
    "    pickle.dump(losses, handle, protocol=pickle.HIGHEST_PROTOCOL)"
   ]
  },
  {
   "cell_type": "code",
   "execution_count": null,
   "metadata": {},
   "outputs": [],
   "source": []
  }
 ],
 "metadata": {
  "accelerator": "GPU",
  "colab": {
   "machine_shape": "hm",
   "provenance": []
  },
  "gpuClass": "standard",
  "kernelspec": {
   "display_name": "Python 3 (ipykernel)",
   "language": "python",
   "name": "python3"
  },
  "language_info": {
   "codemirror_mode": {
    "name": "ipython",
    "version": 3
   },
   "file_extension": ".py",
   "mimetype": "text/x-python",
   "name": "python",
   "nbconvert_exporter": "python",
   "pygments_lexer": "ipython3",
   "version": "3.9.16"
  }
 },
 "nbformat": 4,
 "nbformat_minor": 1
}
